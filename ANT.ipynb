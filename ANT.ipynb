{
 "cells": [
  {
   "cell_type": "markdown",
   "metadata": {},
   "source": [
    "# ANT"
   ]
  },
  {
   "cell_type": "markdown",
   "metadata": {},
   "source": [
    "## Intalling ant on mac"
   ]
  },
  {
   "cell_type": "markdown",
   "metadata": {},
   "source": [
    "Github repo for ant \n",
    "https://github.com/apache/ant/tree/master/src/main/org/apache/tools/ant/taskdefs"
   ]
  },
  {
   "cell_type": "code",
   "execution_count": null,
   "metadata": {},
   "outputs": [],
   "source": [
    "brew install ant"
   ]
  },
  {
   "cell_type": "markdown",
   "metadata": {},
   "source": [
    "ant defaults run build.xml\n",
    "\n",
    "\n",
    "`ant -f <filename> runs anoter buildfile`\n",
    "\n",
    "\n",
    "# ANT general structure\n",
    "- project - root tag\n",
    "- target - collection of actions\n",
    "- tasks - actual action (compile) (create dir)\n",
    "\n",
    "build.xml important tages/element\n",
    "Project: root tag of build.xml\n",
    "- Attributes:\n",
    "- - name:\n",
    "- - default:\n",
    "- - basedir: where you want to run this target\n",
    "\n",
    "`<project name=\"test\" default=\"A\" base=\".\">`\n",
    "\n",
    "## Target: Its a collection of tasks together inside the project \n",
    "Targets cnnot be nested\n",
    "Attribute:\n",
    "- - name:\n",
    "- - depends: oteher targets that executes before current target\n",
    "- - descriptions\n",
    "\n",
    "`<target name-\"A\" depends=\"B\" desciotion=\" this is for a compilation program\">`"
   ]
  },
  {
   "cell_type": "markdown",
   "metadata": {},
   "source": [
    "## Tasks: An actual action performed\n",
    "N: number of tasks\n",
    "`<echo>Hi</echo> prints on the console`\n",
    "\n",
    "Tasks\n",
    "1. File System Taks\n",
    "2. Java Related tasks\n",
    "3. Properties\n",
    "4. Advanced tasks\n",
    "5. External tasks\n",
    "\n",
    "### File system tasks:\n",
    "- echo\n",
    "- mkdir\n",
    "- copy\n",
    "- delete\n",
    "- move\n",
    "\n",
    "copy: file-file/ fir-dir/ dir-dir, fir(*)"
   ]
  },
  {
   "cell_type": "raw",
   "metadata": {},
   "source": [
    "<project name=\"test\" default=\"test\" basedir=\".\">\n",
    "    <target name=\"test\">\n",
    "        <echo>File system tasks</echo>\n",
    "        <mkdir dir=\"build/classes\"/>\n",
    "        <mkdir dir=\"src\"/>\n",
    "        <delete dir=\"build\"/>\n",
    "        <delete file=\"myManifest\"/>\n",
    "        <copy file=\"Hi.txt\" tofile=\"Hello.txt\"/>\n",
    "        <copy file=\"Hi.txt\" todir=\"build\"/>\n",
    "        <copy todir=\"build\">\n",
    "            <fileset dir=\"src\">\n",
    "                <include name=\"*.java\"/>\n",
    "            </fileset>\n",
    "        </copy>\n",
    "        <move file=\"Hi.txt\" todir=\"build\"/>\n",
    "    </target>\n",
    "</project>"
   ]
  },
  {
   "cell_type": "code",
   "execution_count": 18,
   "metadata": {},
   "outputs": [
    {
     "name": "stdout",
     "output_type": "stream",
     "text": [
      "bash: cd: demo: No such file or directory\n",
      "Buildfile: /Users/yyaoa/Documents/ANT/demo/build.xml\n",
      "\n",
      "test:\n",
      "     [echo] File system tasks\n",
      "    [mkdir] Created dir: /Users/yyaoa/Documents/ANT/demo/build/classes\n",
      "   [delete] Deleting directory /Users/yyaoa/Documents/ANT/demo/build\n",
      "     [copy] Copying 1 file to /Users/yyaoa/Documents/ANT/demo\n",
      "     [copy] Copying 1 file to /Users/yyaoa/Documents/ANT/demo/build\n",
      "     [move] Moving 1 file to /Users/yyaoa/Documents/ANT/demo/build\n",
      "\n",
      "BUILD SUCCESSFUL\n",
      "Total time: 0 seconds\n"
     ]
    }
   ],
   "source": [
    "cd demo\n",
    "touch Hi.txt\n",
    "ant"
   ]
  },
  {
   "cell_type": "markdown",
   "metadata": {},
   "source": [
    "## ANT Hello World example"
   ]
  },
  {
   "cell_type": "raw",
   "metadata": {},
   "source": [
    "# helloworld/build.xml\n",
    "<project name=\"HelloWorld\" basedir=\".\" default=\"main\">\n",
    "    <property name=\"src.dir\" value=\"src\"/>\n",
    "    <property name=\"build.dir\" value=\"build\"/>\n",
    "    <property name=\"classes.dir\" value=\"${build.dir}/classes\"/>\n",
    "    <property name=\"jar.dir\" value=\"${build.dir}/jar\"/>\n",
    "    <property name=\"main-class\" value=\"yi.HelloWorld\"/>\n",
    "    \n",
    "    <target name=\"clean\">\n",
    "        <delete dir=\"${build.dir}\"/>\n",
    "    </target>\n",
    "    \n",
    "    <target name=\"compile\">\n",
    "        <mkdir dir=\"${classes.dir}\"/>\n",
    "        <javac srcdir=\"${src.dir}\" destdir=\"${classes.dir}\"/>\n",
    "    </target>\n",
    "    \n",
    "    <target name=\"jar\" depends=\"compile\">\n",
    "        <mkdir dir=\"${jar.dir}\"/>\n",
    "        <jar destfile=\"${jar.dir}/${ant.project.name}.jar\" basedir=\"${classes.dir}\">\n",
    "            <manifest>\n",
    "                <attribute name=\"Main-Class\" value=\"${main-class}\"/>\n",
    "            </manifest>\n",
    "        </jar>\n",
    "    </target>\n",
    "    \n",
    "    <target name=\"run\" depends=\"jar\">\n",
    "        <java jar=\"${jar.dir}/${and.project.name}.jar\" fork=\"true\"/>\n",
    "    </target>\n",
    "    \n",
    "    <target name=\"clean-build\" depends=\"clean,jar\"/>\n",
    "    \n",
    "    <target name=\"main\" depends=\"clean,run\"/>\n",
    "</project>"
   ]
  },
  {
   "cell_type": "code",
   "execution_count": 25,
   "metadata": {},
   "outputs": [
    {
     "name": "stdout",
     "output_type": "stream",
     "text": [
      "Buildfile: /Users/yyaoa/Documents/ANT/helloworld/build.xml\n",
      "\n",
      "clean:\n",
      "   [delete] Deleting directory /Users/yyaoa/Documents/ANT/helloworld/build\n",
      "\n",
      "compile:\n",
      "    [mkdir] Created dir: /Users/yyaoa/Documents/ANT/helloworld/build/classes\n",
      "    [javac] /Users/yyaoa/Documents/ANT/helloworld/build.xml:14: warning: 'includeantruntime' was not set, defaulting to build.sysclasspath=last; set to false for repeatable builds\n",
      "    [javac] Compiling 1 source file to /Users/yyaoa/Documents/ANT/helloworld/build/classes\n",
      "\n",
      "jar:\n",
      "    [mkdir] Created dir: /Users/yyaoa/Documents/ANT/helloworld/build/jar\n",
      "      [jar] Building jar: /Users/yyaoa/Documents/ANT/helloworld/build/jar/HelloWorld.jar\n",
      "\n",
      "run:\n",
      "     [java] Error: Unable to access jarfile /Users/yyaoa/Documents/ANT/helloworld/build/jar/${and.project.name}.jar\n",
      "     [java] Java Result: 1\n",
      "\n",
      "main:\n",
      "\n",
      "BUILD SUCCESSFUL\n",
      "Total time: 1 second\n"
     ]
    }
   ],
   "source": [
    "cd helloworld\n",
    "ant"
   ]
  },
  {
   "cell_type": "code",
   "execution_count": null,
   "metadata": {},
   "outputs": [],
   "source": []
  }
 ],
 "metadata": {
  "kernelspec": {
   "display_name": "Bash",
   "language": "bash",
   "name": "bash"
  },
  "language_info": {
   "codemirror_mode": "shell",
   "file_extension": ".sh",
   "mimetype": "text/x-sh",
   "name": "bash"
  }
 },
 "nbformat": 4,
 "nbformat_minor": 4
}
