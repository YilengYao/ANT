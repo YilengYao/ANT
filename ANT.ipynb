{
 "cells": [
  {
   "cell_type": "markdown",
   "metadata": {},
   "source": [
    "# ANT"
   ]
  },
  {
   "cell_type": "markdown",
   "metadata": {},
   "source": [
    "## Intalling ant on mac"
   ]
  },
  {
   "cell_type": "markdown",
   "metadata": {},
   "source": [
    "Github repo for ant \n",
    "https://github.com/apache/ant/tree/master/src/main/org/apache/tools/ant/taskdefs"
   ]
  },
  {
   "cell_type": "code",
   "execution_count": null,
   "metadata": {},
   "outputs": [],
   "source": [
    "brew install ant"
   ]
  },
  {
   "cell_type": "markdown",
   "metadata": {},
   "source": [
    "ant defaults run build.xml\n",
    "\n",
    "\n",
    "`ant -f <filename> runs anoter buildfile`\n",
    "\n",
    "\n",
    "# ANT general structure\n",
    "- project - root tag\n",
    "- target - collection of actions\n",
    "- tasks - actual action (compile) (create dir)\n",
    "\n",
    "build.xml important tages/element\n",
    "Project: root tag of build.xml\n",
    "- Attributes:\n",
    "- - name:\n",
    "- - default:\n",
    "- - basedir: where you want to run this target\n",
    "\n",
    "`<project name=\"test\" default=\"A\" base=\".\">`\n",
    "\n",
    "## Target: Its a collection of tasks together inside the project \n",
    "Targets cnnot be nested\n",
    "Attribute:\n",
    "- - name:\n",
    "- - depends: oteher targets that executes before current target\n",
    "- - descriptions\n",
    "\n",
    "`<target name-\"A\" depends=\"B\" desciotion=\" this is for a compilation program\">`"
   ]
  },
  {
   "cell_type": "markdown",
   "metadata": {},
   "source": [
    "## Tasks: An actual action performed\n",
    "N: number of tasks\n",
    "`<echo>Hi</echo> prints on the console`\n",
    "\n",
    "Tasks\n",
    "1. File System Taks\n",
    "2. Java Related tasks\n",
    "3. Properties\n",
    "4. Advanced tasks\n",
    "5. External tasks\n",
    "\n",
    "### File system tasks:\n",
    "- echo\n",
    "- mkdir\n",
    "- copy\n",
    "- delete\n",
    "- move\n",
    "\n",
    "copy: file-file/ fir-dir/ dir-dir, fir(*)"
   ]
  },
  {
   "cell_type": "raw",
   "metadata": {},
   "source": [
    "<project name=\"test\" default=\"test\" basedir=\".\">\n",
    "    <target name=\"test\">\n",
    "        <echo>File system tasks</echo>\n",
    "        <mkdir dir=\"build/classes\"/>\n",
    "        <mkdir dir=\"src\"/>\n",
    "        <delete dir=\"build\"/>\n",
    "        <delete file=\"myManifest\"/>\n",
    "        <copy file=\"Hi.txt\" tofile=\"Hello.txt\"/>\n",
    "        <copy file=\"Hi.txt\" todir=\"build\"/>\n",
    "        <copy todir=\"build\">\n",
    "            <fileset dir=\"src\">\n",
    "                <include name=\"*.java\"/>\n",
    "            </fileset>\n",
    "        </copy>\n",
    "        <move file=\"Hi.txt\" todir=\"build\"/>\n",
    "    </target>\n",
    "</project>"
   ]
  },
  {
   "cell_type": "code",
   "execution_count": 18,
   "metadata": {},
   "outputs": [
    {
     "name": "stdout",
     "output_type": "stream",
     "text": [
      "bash: cd: demo: No such file or directory\n",
      "Buildfile: /Users/yyaoa/Documents/ANT/demo/build.xml\n",
      "\n",
      "test:\n",
      "     [echo] File system tasks\n",
      "    [mkdir] Created dir: /Users/yyaoa/Documents/ANT/demo/build/classes\n",
      "   [delete] Deleting directory /Users/yyaoa/Documents/ANT/demo/build\n",
      "     [copy] Copying 1 file to /Users/yyaoa/Documents/ANT/demo\n",
      "     [copy] Copying 1 file to /Users/yyaoa/Documents/ANT/demo/build\n",
      "     [move] Moving 1 file to /Users/yyaoa/Documents/ANT/demo/build\n",
      "\n",
      "BUILD SUCCESSFUL\n",
      "Total time: 0 seconds\n"
     ]
    }
   ],
   "source": [
    "cd demo\n",
    "touch Hi.txt\n",
    "ant"
   ]
  },
  {
   "cell_type": "markdown",
   "metadata": {},
   "source": [
    "## ANT Hello World example"
   ]
  },
  {
   "cell_type": "raw",
   "metadata": {},
   "source": [
    "# helloworld/build.xml\n",
    "<project>\n",
    "    <target name=\"clean\">\n",
    "        <delete dir=\"build\"/>        \n",
    "    </target>\n",
    "    \n",
    "    <target name=\"compile\">\n",
    "        <mkdir dir=\"build/classes\"/>\n",
    "        <javac srcdir=\"src\" destdir=\"build/classes\"/>\n",
    "    </target>\n",
    "    \n",
    "    <target name=\"jar\">\n",
    "        <mkdir dir=\"build/jar\"/>\n",
    "        <jar destfile=\"build/jar/HelloWorld.jar\" basedir=\"build/classes\">\n",
    "            <manifest>\n",
    "                <attribute name=\"Main-Class\" value=\"yi.HelloWorld\"/>\n",
    "            </manifest>\n",
    "        </jar>\n",
    "    </target>\n",
    "    \n",
    "    <target name=\"run\">\n",
    "        <java jar=\"build/jar/HelloWorld.jar\" fork=\"true\"/>\n",
    "    </target>\n",
    "</project>"
   ]
  },
  {
   "cell_type": "code",
   "execution_count": 24,
   "metadata": {},
   "outputs": [
    {
     "name": "stdout",
     "output_type": "stream",
     "text": [
      "Buildfile: /Users/yyaoa/Documents/ANT/helloworld/build.xml\n",
      "\n",
      "compile:\n",
      "    [javac] /Users/yyaoa/Documents/ANT/helloworld/build.xml:8: warning: 'includeantruntime' was not set, defaulting to build.sysclasspath=last; set to false for repeatable builds\n",
      "\n",
      "jar:\n",
      "\n",
      "run:\n",
      "     [java] Hello World\n",
      "\n",
      "BUILD SUCCESSFUL\n",
      "Total time: 0 seconds\n"
     ]
    }
   ],
   "source": [
    "cd helloworld\n",
    "ant compile jar run"
   ]
  },
  {
   "cell_type": "code",
   "execution_count": null,
   "metadata": {},
   "outputs": [],
   "source": []
  }
 ],
 "metadata": {
  "kernelspec": {
   "display_name": "Bash",
   "language": "bash",
   "name": "bash"
  },
  "language_info": {
   "codemirror_mode": "shell",
   "file_extension": ".sh",
   "mimetype": "text/x-sh",
   "name": "bash"
  }
 },
 "nbformat": 4,
 "nbformat_minor": 4
}
